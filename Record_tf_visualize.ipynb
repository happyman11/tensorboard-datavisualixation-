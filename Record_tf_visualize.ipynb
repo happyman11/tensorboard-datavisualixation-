{
  "nbformat": 4,
  "nbformat_minor": 0,
  "metadata": {
    "colab": {
      "provenance": [],
      "collapsed_sections": []
    },
    "kernelspec": {
      "name": "python3",
      "display_name": "Python 3"
    },
    "language_info": {
      "name": "python"
    }
  },
  "cells": [
    {
      "cell_type": "code",
      "execution_count": null,
      "metadata": {
        "id": "g4M_QGOlFQUN"
      },
      "outputs": [],
      "source": [
        "# https://www.tensorflow.org/tensorboard/tensorboard_projector_plugin\n",
        "#https://branyang.gitbooks.io/tfdocs/content/get_started/embedding_viz.html\n",
        "# https://projector.tensorflow.org/\n",
        "#https://www.youtube.com/watch?v=e2w-kOVHNQ4\n",
        "# https://towardsdatascience.com/taking-the-tensorboard-embedding-projector-to-the-next-level-bde53deb6bb7\n",
        "#https://medium.com/looka-engineering/how-to-visualize-feature-vectors-with-sprites-and-tensorflows-tensorboard-3950ca1fb2c7\n",
        "#https://github.com/AndrewBMartin/tensorboard_sprites/blob/master/tensorboard_sprites.ipynb"
      ]
    },
    {
      "cell_type": "code",
      "source": [
        "%load_ext tensorboard\n",
        "import csv\n",
        "import numpy as np\n",
        "import tensorflow as tf\n",
        "from PIL import Image"
      ],
      "metadata": {
        "id": "W3j5GRVhFbhf"
      },
      "execution_count": null,
      "outputs": []
    },
    {
      "cell_type": "code",
      "source": [
        "embeddings = tf.keras.models.Model( \n",
        "    inputs=model.inputs, \n",
        "    outputs=model.layers[-1].output \n",
        ")"
      ],
      "metadata": {
        "id": "SBgs3yQ6F5Al"
      },
      "execution_count": null,
      "outputs": []
    },
    {
      "cell_type": "code",
      "source": [
        "def get_img(img_path):\n",
        "    img = tf.io.read_file(img_path)\n",
        "    # convert the compressed string to a 3D uint8 tensor\n",
        "    img = tf.image.decode_jpeg(img, channels=3)\n",
        "    # resize the image to the desired size for your model\n",
        "    img = tf.image.resize_with_pad(img, 100, 100)\n",
        "    return img\n",
        "# Generate embeddings\n",
        "images_pil = []\n",
        "images_embeddings = []\n",
        "labels = []\n",
        "for x in raw_val_ds.take(1500): \n",
        "    img_path = x[0]\n",
        "    img_tf = get_img(img_path)\n",
        "    # Save both tf image for prediction and PIL image for sprite\n",
        "    img_pil = Image.open(img_path.numpy()).resize((100, 100))\n",
        "    img_embedding = embeddings(tf.expand_dims(img_tf, axis=0))\n",
        "    images_embeddings.append(img_embedding.numpy()[0])\n",
        "    images_pil.append(img_pil)\n",
        "    # Assuming your output data is directly the label\n",
        "    label = x[1] \n",
        "    labels.append(label)"
      ],
      "metadata": {
        "id": "QX5iy7ilGQo9"
      },
      "execution_count": null,
      "outputs": []
    },
    {
      "cell_type": "code",
      "source": [
        "with open(f’{LOG_DIR}/embeddings/feature_vecs.tsv’, ‘w’) as fw:\n",
        "    csv_writer = csv.writer(fw, delimiter=’\\t’)\n",
        "    csv_writer.writerows(images_embeddings)"
      ],
      "metadata": {
        "id": "dQ4Qp57TGw2h"
      },
      "execution_count": null,
      "outputs": []
    },
    {
      "cell_type": "code",
      "source": [
        "one_square_size = int(np.ceil(np.sqrt(len(images_embeddings))))\n",
        "master_width = 100 * one_square_size\n",
        "master_height = 100 * one_square_size\n",
        "spriteimage = Image.new(\n",
        "    mode=’RGBA’,\n",
        "    size=(master_width, master_height),\n",
        "    color=(0,0,0,0) # fully transparent\n",
        ")\n",
        "for count, image in enumerate(images_pil):\n",
        "    div, mod = divmod(count, one_square_size)\n",
        "    h_loc = 100 * div\n",
        "    w_loc = 100 * mod\n",
        "    spriteimage.paste(image, (w_loc, h_loc))\n",
        "spriteimage.convert(“RGB”).save(f’{LOG_DIR}/embeddings/sprite.jpg’, transparency=0)"
      ],
      "metadata": {
        "id": "uYbtwYING1kV"
      },
      "execution_count": null,
      "outputs": []
    },
    {
      "cell_type": "code",
      "source": [
        "with open(f’{LOG_DIR}/embeddings/metadata.tsv’, ‘w’) as file: \n",
        "    for label in labels:\n",
        "        file.write(f”{label}\\n”)"
      ],
      "metadata": {
        "id": "GcSkE0nEG4MD"
      },
      "execution_count": null,
      "outputs": []
    },
    {
      "cell_type": "code",
      "source": [
        "%tensorboard — logdir LOG_DIR"
      ],
      "metadata": {
        "id": "8RllkBXZG9ER"
      },
      "execution_count": null,
      "outputs": []
    },
    {
      "cell_type": "code",
      "source": [],
      "metadata": {
        "id": "uvg-dHKWHUqT"
      },
      "execution_count": null,
      "outputs": []
    }
  ]
}